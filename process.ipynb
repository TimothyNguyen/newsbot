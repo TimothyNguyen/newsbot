{
 "cells": [
  {
   "cell_type": "code",
   "execution_count": 2,
   "metadata": {},
   "outputs": [],
   "source": [
    "import spacy\n",
    "\n",
    "nlp = spacy.load('en_core_web_sm')\n",
    "\n",
    "doc = nlp(\"Peach emoji is where it has always been. Peach is the superior \"\n",
    "          \"emoji. It's outranking eggplant 🍑 \")"
   ]
  },
  {
   "cell_type": "code",
   "execution_count": 24,
   "metadata": {
    "scrolled": true
   },
   "outputs": [],
   "source": [
    "def filterSentences( doc ):\n",
    "    sentences = list(doc.sents)\n",
    "    filteredSentences = []\n",
    "    # filter out every sentence without a single object and single subject\n",
    "    for sent in sentences:\n",
    "        numSubj = 0\n",
    "        numObj  = 0\n",
    "        for tok in nlp(sent.text):\n",
    "            if tok.dep_.find(\"subj\") == True:\n",
    "                numSubj += 1\n",
    "            if tok.dep_.find(\"obj\") == True:\n",
    "                numObj += 1\n",
    "        if numSubj == 1 and numObj == 1:\n",
    "            filteredSentences.append(sent.text)\n",
    "    return filteredSentences"
   ]
  },
  {
   "cell_type": "code",
   "execution_count": 25,
   "metadata": {},
   "outputs": [
    {
     "name": "stdout",
     "output_type": "stream",
     "text": [
      "[\"It's outranking eggplant 🍑\"]\n"
     ]
    }
   ],
   "source": [
    "print( filterSentences(doc) )"
   ]
  },
  {
   "cell_type": "code",
   "execution_count": null,
   "metadata": {},
   "outputs": [],
   "source": []
  }
 ],
 "metadata": {
  "kernelspec": {
   "display_name": "Python 3",
   "language": "python",
   "name": "python3"
  },
  "language_info": {
   "codemirror_mode": {
    "name": "ipython",
    "version": 3
   },
   "file_extension": ".py",
   "mimetype": "text/x-python",
   "name": "python",
   "nbconvert_exporter": "python",
   "pygments_lexer": "ipython3",
   "version": "3.7.0"
  }
 },
 "nbformat": 4,
 "nbformat_minor": 2
}
