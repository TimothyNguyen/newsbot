{
 "cells": [
  {
   "cell_type": "code",
   "execution_count": 2,
   "metadata": {},
   "outputs": [],
   "source": [
    "import requests\n",
    "from newsapi import NewsApiClient as c"
   ]
  },
  {
   "cell_type": "code",
   "execution_count": 3,
   "metadata": {},
   "outputs": [],
   "source": [
    "client = c(api_key='5f4375f8c32d49c982278939b760f7b8')\n",
    "articles = client.get_everything(q='beijing',\n",
    "                                      from_param='2019-09-20',\n",
    "                                      to='2019-10-15',\n",
    "                                      language='en',\n",
    "                                      sort_by='relevancy',\n",
    "                                      page=2)"
   ]
  },
  {
   "cell_type": "code",
   "execution_count": 4,
   "metadata": {},
   "outputs": [],
   "source": [
    "r = requests.get(\"https://www.summarizebot.com/api/extract?apiKey=0b18093f97fc44f1a902ca0a8191bfb3&url=\")"
   ]
  },
  {
   "cell_type": "code",
   "execution_count": 5,
   "metadata": {},
   "outputs": [
    {
     "name": "stdout",
     "output_type": "stream",
     "text": [
      "https://www.ctvnews.ca/sports/bianca-boom-canadian-tennis-star-andreescu-moves-the-needle-in-a-big-way-1.4613421\n",
      "https://www.reuters.com/article/us-hongkong-protests-keydates-idUSKBN1WC0Q4\n",
      "https://www.reuters.com/article/us-syria-security-turkey-china-idUSKBN1WU0PY\n",
      "https://www.reuters.com/article/us-hongkong-protests-assault-idUSKBN1WA07M\n",
      "https://www.reuters.com/article/us-usa-trade-china-kudlow-idUSKBN1WM1M6\n",
      "https://www.reuters.com/article/us-china-politics-xi-idUSKBN1WS07W\n",
      "https://www.nytimes.com/2019/10/09/us/politics/trump-huawei-trade.html\n",
      "https://www.nytimes.com/2019/10/03/opinion/china-xi-jinping.html\n",
      "https://gizmodo.com/viral-video-shows-hong-kong-police-shooting-teen-protes-1838655638\n",
      "https://news.abs-cbn.com/business/09/29/19/beijing-hopes-glitzy-new-airport-will-take-off-as-aviation-hub\n",
      "https://www.express.co.uk/news/world/1189025/China-news-india-furious-beijing-aggression-kashmir-world-war-3-spt\n",
      "https://www.reuters.com/article/us-usa-trade-china-idUSKBN1WE08L\n",
      "https://www.reuters.com/article/us-usa-trade-china-limits-idUSKBN1WF0M5\n",
      "https://www.nytimes.com/2019/09/30/world/asia/china-national-day-hong-kong-protests.html\n",
      "https://www.theverge.com/2019/10/2/20881909/microsoft-surface-pro-7-event-watch-live-stream-how-to-time-date\n",
      "https://www.reuters.com/article/us-china-cic-idUSKBN1W50JP\n",
      "https://www.reuters.com/article/us-usa-trade-china-talks-idUSKBN1WQ27W\n",
      "https://www.reuters.com/article/us-northkorea-missles-sweden-idUSKBN1WI1VO\n",
      "https://www.bbc.co.uk/news/world-asia-china-49891403\n",
      "https://time.com/5695823/china-nba-houston-rockets-basketball/\n"
     ]
    }
   ],
   "source": [
    "for i in range(0,len(articles[\"articles\"])):\n",
    "    print(articles[\"articles\"][i][\"url\"])"
   ]
  },
  {
   "cell_type": "code",
   "execution_count": 6,
   "metadata": {},
   "outputs": [
    {
     "data": {
      "text/plain": [
       "20"
      ]
     },
     "execution_count": 6,
     "metadata": {},
     "output_type": "execute_result"
    }
   ],
   "source": [
    "len(articles[\"articles\"])"
   ]
  },
  {
   "cell_type": "code",
   "execution_count": 7,
   "metadata": {},
   "outputs": [
    {
     "name": "stdout",
     "output_type": "stream",
     "text": [
      "done with 0\n",
      "done with 1\n",
      "done with 2\n",
      "done with 3\n",
      "done with 4\n",
      "done with 5\n",
      "done with 6\n",
      "done with 7\n",
      "done with 8\n",
      "done with 9\n",
      "done with 10\n",
      "done with 11\n",
      "done with 12\n",
      "done with 13\n",
      "done with 14\n",
      "done with 15\n",
      "done with 16\n",
      "done with 17\n",
      "done with 18\n",
      "done with 19\n"
     ]
    }
   ],
   "source": [
    "articleData = []\n",
    "for i in range(0, len(articles[\"articles\"])):\n",
    "    articleData.append(requests.get(\"https://www.summarizebot.com/api/extract?apiKey=0b18093f97fc44f1a902ca0a8191bfb3&url={}\"\n",
    "                     .format(articles[\"articles\"][i][\"url\"])))\n",
    "    print(\"done with {}\".format(i))"
   ]
  },
  {
   "cell_type": "code",
   "execution_count": 23,
   "metadata": {},
   "outputs": [
    {
     "name": "stdout",
     "output_type": "stream",
     "text": [
      "Bianca Boom: Canadian tennis star Andreescu moves the needle in a big way\n",
      "Factbox: What's next for Hong Kong's protest movement\n",
      "China urges Turkey to halt military action in Syria-foreign ministry\n",
      "Apple Daily condemns attack on reporter covering Hong Kong protests\n",
      "White House adviser sees possible progress in -China trade talks\n",
      "China's Xi warns attempts to divide China will end in 'shattered bones'\n",
      "Trump Green-Lights Some Sales to Huawei\n",
      "Opinion | Is China Heading for Crisis?\n",
      "Viral Video Shows Hong Kong Police Shooting Teen Protester in the Chest\n",
      "Beijing hopes glitzy new airport will take off as aviation hub\n",
      "China and India face off in Kashmir as Beijing stamps authority in region\n",
      "China urges 'calm and rational' resolution to -Sino trade war\n",
      "On delisting threat, China says 'decoupling' would harm both sides\n",
      "National Day Demonstrations in Hong Kong Turn Violent\n",
      "How to watch Microsoft’s 2019 Surface event\n",
      "China sovereign fund CIC says cautious of investment amid trade war\n",
      "Chinese delegation departs USTR building as trade talks conclude\n",
      "A North Korean delegation has landed in Sweden for talks with : source\n",
      "Activist shot amid Hong Kong protests\n",
      "https://time.com\n"
     ]
    }
   ],
   "source": [
    "import json\n",
    "for i,obj in enumerate(articleData):\n",
    "    print(obj.json()['article title'])"
   ]
  },
  {
   "cell_type": "code",
   "execution_count": 8,
   "metadata": {},
   "outputs": [
    {
     "data": {
      "text/plain": [
       "'BEIJING (Reuters) - Chinese President Xi Jinping warned on Sunday that any attempt to divide China will be crushed, as Beijing faces political challenges in months-long protests in Hong Kong and U.S. criticism over its treatment of Muslim minority groups.\\n\\n“Anyone attempting to split China in any part of the country will end in crushed bodies and shattered bones,” he told Nepal’s Prime Minister KP Sharma Oli in a meeting on Sunday, according to China’s state broadcaster CCTV.\\n\\n“And any external forces backing such attempts dividing China will be deemed by the Chinese people as pipe-dreaming!” he was quoted as saying.\\n\\nXi, the first Chinese president to visit Nepal in 22 years,\\xa0arrived in Nepal on Saturday on a state visit. Both sides are expected to sign a deal expanding a railway link between the Himalayan nation and Tibet.\\n\\nNepal’s Oli told Xi that the country will oppose any “anti-China activities” on its soil, CCTV reported.\\n\\nChina, which is trying to de-escalate a protracted trade war with the United States, has seen its political authority tested by increasingly violent protests in Hong Kong against what is seen as Beijing’s tightening grip on the Chinese-ruled city.\\n\\nPolice in Hong Kong have used rubber bullets, tear gas and water cannons against pro-democracy demonstrators in the former British colony, which has been plunged into its worst political crisis in decades.\\n\\nU.S. president Donald Trump had said it would be difficult to negotiate with China if anything “bad” happens in Chinese authorities’ handling of the Hong Kong protests.\\n\\nTrump said he discussed the issue of Hong Kong with Chinese Vice Premier Liu He on Saturday during their latest round of talks. Both sides reached a “phase-one deal” that has raised optimism for a broader agreement although many fundamental issues remained unresolved and existing tariffs are still not lifted.\\n\\nWashington last week also blacklisted 28 Chinese companies over Beijing’s treatment of predominantly Muslim ethnic minorities. China has faced growing international condemnation for what it calls re-education and training centers in the remote western region of Xinjiang. Activists say they are mass detention camps holding more than 1 million ethnic Uighurs and other Muslims.\\n\\nBefore arriving in Nepal, Xi was in India for talks with Indian Prime Minister Narendra Modi to try to mend ties over the disputed Himalayan region of Kashmir amid scattered anti-China protests from Tibetan groups.\\n\\nChina sent troops into remote, mountainous Tibet in 1950 in what it officially terms a peaceful liberation and has ruled there with an iron fist ever since.\\n\\nThe Dalai Lama, Tibet’s spiritual leader, fled to India in 1959 after a failed uprising against Chinese rule. China brands him a dangerous reactionary who seeks to split off nearly a quarter of the Chinese land mass.\\n\\n(The story corrects misspelling of “shattered” in headline and second paragraph).'"
      ]
     },
     "execution_count": 8,
     "metadata": {},
     "output_type": "execute_result"
    }
   ],
   "source": [
    "articleData[5].json()[\"text\"]\n"
   ]
  },
  {
   "cell_type": "code",
   "execution_count": 9,
   "metadata": {},
   "outputs": [],
   "source": [
    "def genListOfSentences(s):\n",
    "    ans = [\"\"]\n",
    "    k = 0\n",
    "    while(k < len(s)):\n",
    "        if(s[k] == '.'):\n",
    "            ans.append(\"\")\n",
    "            k+=1\n",
    "        elif(s[k] != '\\n'):\n",
    "            ans[len(ans)-1] += s[k]\n",
    "        k+=1\n",
    "    return ans   "
   ]
  },
  {
   "cell_type": "code",
   "execution_count": 10,
   "metadata": {},
   "outputs": [],
   "source": [
    "sentences = genListOfSentences(articleData[5].json()[\"text\"])"
   ]
  },
  {
   "cell_type": "code",
   "execution_count": 12,
   "metadata": {},
   "outputs": [],
   "source": [
    "import spacy\n",
    "from spacy import displacy"
   ]
  },
  {
   "cell_type": "code",
   "execution_count": 13,
   "metadata": {},
   "outputs": [],
   "source": [
    "nlp = spacy.load('en_core_web_sm')"
   ]
  },
  {
   "cell_type": "code",
   "execution_count": 16,
   "metadata": {},
   "outputs": [
    {
     "name": "stdout",
     "output_type": "stream",
     "text": [
      ">>>(BEIJING, Reuters, Chinese, Xi Jinping, Sunday, China, Beijing, months-long, Hong Kong, U)\n",
      "BEIJING (Reuters) - Chinese President Xi Jinping warned on Sunday that any attempt to divide China will be crushed, as Beijing faces political challenges in months-long protests in Hong Kong and U\n",
      ">>>()\n",
      "\n",
      ">>>(Muslim,)\n",
      "criticism over its treatment of Muslim minority groups\n",
      ">>>(China, Nepal’s, KP Sharma Oli, Sunday, China, CCTV)\n",
      "“Anyone attempting to split China in any part of the country will end in crushed bodies and shattered bones,” he told Nepal’s Prime Minister KP Sharma Oli in a meeting on Sunday, according to China’s state broadcaster CCTV\n",
      ">>>(China, Chinese)\n",
      "“And any external forces backing such attempts dividing China will be deemed by the Chinese people as pipe-dreaming!” he was quoted as saying\n",
      ">>>(Xi, first, Chinese, Nepal, 22 years, Nepal, Saturday)\n",
      "Xi, the first Chinese president to visit Nepal in 22 years, arrived in Nepal on Saturday on a state visit\n",
      ">>>(Himalayan, Tibet)\n",
      "Both sides are expected to sign a deal expanding a railway link between the Himalayan nation and Tibet\n",
      ">>>(Nepal, Oli, Xi, China, CCTV)\n",
      "Nepal’s Oli told Xi that the country will oppose any “anti-China activities” on its soil, CCTV reported\n",
      ">>>(China, the United States, Hong Kong, Beijing, Chinese)\n",
      "China, which is trying to de-escalate a protracted trade war with the United States, has seen its political authority tested by increasingly violent protests in Hong Kong against what is seen as Beijing’s tightening grip on the Chinese-ruled city\n",
      ">>>(Hong Kong, British, decades)\n",
      "Police in Hong Kong have used rubber bullets, tear gas and water cannons against pro-democracy demonstrators in the former British colony, which has been plunged into its worst political crisis in decades\n",
      ">>>()\n",
      "U\n",
      ">>>()\n",
      "\n",
      ">>>(Donald Trump, China, Chinese, the Hong Kong)\n",
      "president Donald Trump had said it would be difficult to negotiate with China if anything “bad” happens in Chinese authorities’ handling of the Hong Kong protests\n",
      ">>>(Trump, Hong Kong, Chinese, Liu, Saturday)\n",
      "Trump said he discussed the issue of Hong Kong with Chinese Vice Premier Liu He on Saturday during their latest round of talks\n",
      ">>>()\n",
      "Both sides reached a “phase-one deal” that has raised optimism for a broader agreement although many fundamental issues remained unresolved and existing tariffs are still not lifted\n",
      ">>>(Washington, last week, 28, Chinese, Beijing, Muslim)\n",
      "Washington last week also blacklisted 28 Chinese companies over Beijing’s treatment of predominantly Muslim ethnic minorities\n",
      ">>>(China, Xinjiang)\n",
      "China has faced growing international condemnation for what it calls re-education and training centers in the remote western region of Xinjiang\n",
      ">>>(more than 1 million, Muslims)\n",
      "Activists say they are mass detention camps holding more than 1 million ethnic Uighurs and other Muslims\n",
      ">>>(Nepal, Xi, India, Indian, Narendra Modi, Himalayan, Kashmir, anti-China, Tibetan)\n",
      "Before arriving in Nepal, Xi was in India for talks with Indian Prime Minister Narendra Modi to try to mend ties over the disputed Himalayan region of Kashmir amid scattered anti-China protests from Tibetan groups\n",
      ">>>(China, Tibet, 1950)\n",
      "China sent troops into remote, mountainous Tibet in 1950 in what it officially terms a peaceful liberation and has ruled there with an iron fist ever since\n",
      ">>>(Tibet, India, 1959, Chinese)\n",
      "The Dalai Lama, Tibet’s spiritual leader, fled to India in 1959 after a failed uprising against Chinese rule\n",
      ">>>(China, nearly a quarter, Chinese)\n",
      "China brands him a dangerous reactionary who seeks to split off nearly a quarter of the Chinese land mass\n",
      ">>>(second,)\n",
      "(The story corrects misspelling of “shattered” in headline and second paragraph)\n",
      ">>>()\n",
      "\n"
     ]
    }
   ],
   "source": [
    "for i in range(0, len(sentences)):\n",
    "    doc = nlp(sentences[i])\n",
    "    print(\">>>{}\".format(doc.ents))\n",
    "    print(sentences[i])"
   ]
  },
  {
   "cell_type": "code",
   "execution_count": 25,
   "metadata": {},
   "outputs": [
    {
     "name": "stdout",
     "output_type": "stream",
     "text": [
      "X\n"
     ]
    }
   ],
   "source": [
    "d = nlp(\"\")\n",
    "print(d[0].pos_)\n"
   ]
  },
  {
   "cell_type": "code",
   "execution_count": 26,
   "metadata": {},
   "outputs": [],
   "source": [
    "def get_entities(sent):\n",
    "  ## chunk 1\n",
    "  ent1 = \"\"\n",
    "  ent2 = \"\"\n",
    "\n",
    "  prv_tok_dep = \"\"    # dependency tag of previous token in the sentence\n",
    "  prv_tok_text = \"\"   # previous token in the sentence\n",
    "\n",
    "  prefix = \"\"\n",
    "  modifier = \"\"\n",
    "\n",
    "  #############################################################\n",
    "  \n",
    "  for tok in nlp(sent):\n",
    "    ## chunk 2\n",
    "    # if token is a punctuation mark then move on to the next token\n",
    "    if tok.dep_ != \"punct\":\n",
    "      # check: token is a compound word or not\n",
    "      if tok.dep_ == \"compound\":\n",
    "        prefix = tok.text\n",
    "        # if the previous word was also a 'compound' then add the current word to it\n",
    "        if prv_tok_dep == \"compound\":\n",
    "          prefix = prv_tok_text + \" \"+ tok.text\n",
    "      \n",
    "      # check: token is a modifier or not\n",
    "      if tok.dep_.endswith(\"mod\") == True:\n",
    "        modifier = tok.text\n",
    "        # if the previous word was also a 'compound' then add the current word to it\n",
    "        if prv_tok_dep == \"compound\":\n",
    "          modifier = prv_tok_text + \" \"+ tok.text\n",
    "      \n",
    "      ## chunk 3\n",
    "      if tok.dep_.find(\"subj\") == True:\n",
    "        ent1 = modifier +\" \"+ prefix + \" \"+ tok.text\n",
    "        prefix = \"\"\n",
    "        modifier = \"\"\n",
    "        prv_tok_dep = \"\"\n",
    "        prv_tok_text = \"\"      \n",
    "\n",
    "      ## chunk 4\n",
    "      if tok.dep_.find(\"obj\") == True:\n",
    "        ent2 = modifier +\" \"+ prefix +\" \"+ tok.text\n",
    "        \n",
    "      ## chunk 5  \n",
    "      # update variables\n",
    "      prv_tok_dep = tok.dep_\n",
    "      prv_tok_text = tok.text\n",
    "  #############################################################\n",
    "\n",
    "  return [ent1.strip(), ent2.strip()]"
   ]
  },
  {
   "cell_type": "code",
   "execution_count": 27,
   "metadata": {},
   "outputs": [
    {
     "name": "stdout",
     "output_type": "stream",
     "text": [
      "['brown  fox', 'lazy  dog']\n"
     ]
    }
   ],
   "source": [
    "print(get_entities(\"the quick brown fox jumps over the lazy dog\"))"
   ]
  },
  {
   "cell_type": "code",
   "execution_count": 28,
   "metadata": {},
   "outputs": [],
   "source": [
    "saveData = []\n",
    "for i in range(0, len(articleData)):\n",
    "    obj = articleData[i].json()\n",
    "    obj[\"meta information\"][\"url\"] = articles[\"articles\"][i][\"url\"]\n",
    "    saveData.append(obj)"
   ]
  },
  {
   "cell_type": "code",
   "execution_count": 29,
   "metadata": {},
   "outputs": [],
   "source": [
    "import json\n",
    "dict = {}\n",
    "dict[\"articles\"] = saveData\n",
    "js = json.dumps(dict)\n",
    "f = open(\"sampleText.json\",\"w\")\n",
    "f.write(js)\n",
    "f.close()\n",
    "\n",
    "    "
   ]
  },
  {
   "cell_type": "code",
   "execution_count": null,
   "metadata": {},
   "outputs": [],
   "source": []
  }
 ],
 "metadata": {
  "kernelspec": {
   "display_name": "Python 3",
   "language": "python",
   "name": "python3"
  },
  "language_info": {
   "codemirror_mode": {
    "name": "ipython",
    "version": 3
   },
   "file_extension": ".py",
   "mimetype": "text/x-python",
   "name": "python",
   "nbconvert_exporter": "python",
   "pygments_lexer": "ipython3",
   "version": "3.7.1"
  }
 },
 "nbformat": 4,
 "nbformat_minor": 2
}
