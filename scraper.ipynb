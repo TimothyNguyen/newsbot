{
 "cells": [
  {
   "cell_type": "code",
   "execution_count": 5,
   "metadata": {},
   "outputs": [],
   "source": [
    "import requests\n",
    "import json\n",
    "from newsapi import NewsApiClient"
   ]
  },
  {
   "cell_type": "code",
   "execution_count": 11,
   "metadata": {
    "scrolled": true
   },
   "outputs": [
    {
     "name": "stdout",
     "output_type": "stream",
     "text": [
      "5f4375f8c32d49c982278939b760f7b8 0b18093f97fc44f1a902ca0a8191bfb3\n"
     ]
    }
   ],
   "source": [
    "# getting our API keys without putting them on GitHub for you dirty theives to steal\n",
    "with open('keys.json', 'r') as f:\n",
    "    keys_dict = json.load(f)\n",
    "newsapi_key = keys_dict[\"newsapi\"]\n",
    "summerizebot_key = keys_dict[\"summerizebot\"]\n",
    "summerize_request = \"https://www.summarizebot.com/api/extract?apiKey=\" + summerizebot_key + \"&url={}\"\n",
    "print(newsapi_key, summerizebot_key)"
   ]
  },
  {
   "cell_type": "code",
   "execution_count": 10,
   "metadata": {},
   "outputs": [],
   "source": [
    "# input: article search query as a string\n",
    "# does: aggregates articles based on query, then stores those articles as JSON files\n",
    "def getArticles( query ):\n",
    "    # get the articles with  News API\n",
    "    client = NewsApiClient(api_key=newsapi_key)\n",
    "    articles = client.get_everything(q=query,\n",
    "                                      from_param='2019-09-20',\n",
    "                                      to='2019-10-15',\n",
    "                                      language='en',\n",
    "                                      sort_by='relevancy',\n",
    "                                      page=2)\n",
    "    # for each article, make sure we have the JSON\n",
    "    for article in articles[\"articles\"]:\n",
    "        # if !weAlreadyHave( article[\"url\"]) do\n",
    "        articleData = requests.get(summerize_request.format(article[\"url\"]))\n",
    "        filename = 'articles/' + articleData.json()['article title'] + '.json'\n",
    "        with open(filename, 'w') as fp:\n",
    "            json.dump(articleData, fp)\n",
    "    return 0;"
   ]
  },
  {
   "cell_type": "code",
   "execution_count": null,
   "metadata": {},
   "outputs": [],
   "source": []
  }
 ],
 "metadata": {
  "kernelspec": {
   "display_name": "Python 3",
   "language": "python",
   "name": "python3"
  },
  "language_info": {
   "codemirror_mode": {
    "name": "ipython",
    "version": 3
   },
   "file_extension": ".py",
   "mimetype": "text/x-python",
   "name": "python",
   "nbconvert_exporter": "python",
   "pygments_lexer": "ipython3",
   "version": "3.7.0"
  }
 },
 "nbformat": 4,
 "nbformat_minor": 2
}
