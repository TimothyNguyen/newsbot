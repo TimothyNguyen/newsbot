{
 "cells": [
  {
   "cell_type": "code",
   "execution_count": null,
   "metadata": {},
   "outputs": [],
   "source": [
    "import requests\n",
    "import json\n",
    "from newsapi import NewsApiClient as c"
   ]
  },
  {
   "cell_type": "code",
   "execution_count": 2,
   "metadata": {},
   "outputs": [],
   "source": [
    "# input: article search query as a string\n",
    "# does: aggregates articles based on query, then stores those articles as JSON files\n",
    "def getArticles( query ):\n",
    "    # get the articles with  News API\n",
    "    client = c(api_key='PROTECTED')\n",
    "    articles = client.get_everything(q=query,\n",
    "                                      from_param='2019-09-20',\n",
    "                                      to='2019-10-15',\n",
    "                                      language='en',\n",
    "                                      sort_by='relevancy',\n",
    "                                      page=2)\n",
    "    # for each article, make sure we have the JSON\n",
    "    for article in articles[\"articles\"]:\n",
    "        # if !weAlreadyHave( article[\"url\"]) do\n",
    "        articleData = requests.get(\"https://www.summarizebot.com/api/extract?apiKey=PROTECTED&url={}\"\n",
    "                     .format(article[\"url\"]))\n",
    "        filename = 'articles/' + articleData.json()['article title'] + '.json'\n",
    "        with open(filename, 'w') as fp:\n",
    "            json.dump(articleData, fp)\n",
    "    return 0;"
   ]
  },
  {
   "cell_type": "code",
   "execution_count": null,
   "metadata": {},
   "outputs": [],
   "source": []
  }
 ],
 "metadata": {
  "kernelspec": {
   "display_name": "Python 3",
   "language": "python",
   "name": "python3"
  },
  "language_info": {
   "codemirror_mode": {
    "name": "ipython",
    "version": 3
   },
   "file_extension": ".py",
   "mimetype": "text/x-python",
   "name": "python",
   "nbconvert_exporter": "python",
   "pygments_lexer": "ipython3",
   "version": "3.7.0"
  }
 },
 "nbformat": 4,
 "nbformat_minor": 2
}
