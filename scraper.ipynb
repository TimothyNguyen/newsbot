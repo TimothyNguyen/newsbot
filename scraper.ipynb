{
 "cells": [
  {
   "cell_type": "code",
   "execution_count": 16,
   "metadata": {},
   "outputs": [],
   "source": [
    "import requests\n",
    "import json\n",
    "from newsapi import NewsApiClient"
   ]
  },
  {
   "cell_type": "code",
   "execution_count": 17,
   "metadata": {
    "scrolled": true
   },
   "outputs": [],
   "source": [
    "# getting our API keys without putting them on GitHub for you dirty theives to steal\n",
    "with open('keys.json', 'r') as f:\n",
    "    keys_dict = json.load(f)\n",
    "newsapi_key = keys_dict[\"newsapi\"]\n",
    "summerizebot_key = keys_dict[\"summerizebot\"]\n",
    "summerize_request = \"https://www.summarizebot.com/api/extract?apiKey=\" + summerizebot_key + \"&url={}\""
   ]
  },
  {
   "cell_type": "code",
   "execution_count": 69,
   "metadata": {},
   "outputs": [],
   "source": [
    "# function to query the newsapi\n",
    "def findArticles( query, page_num ):\n",
    "    # get the articles with News API\n",
    "    client = NewsApiClient(api_key=newsapi_key)\n",
    "    articles = client.get_everything(q=query,\n",
    "                                      from_param='2019-09-20',\n",
    "                                      to='2019-10-15',\n",
    "                                      language='en',\n",
    "                                      sort_by='relevancy',\n",
    "                                      page=page_num)\n",
    "    return articles[\"articles\"]"
   ]
  },
  {
   "cell_type": "code",
   "execution_count": 80,
   "metadata": {},
   "outputs": [],
   "source": [
    "# input: article search query as a string, number of pages to search\n",
    "# does: aggregates articles based on query, then stores those articles as JSON files\n",
    "def storeArticles( query, num_pages ):\n",
    "    \n",
    "    article_list = []\n",
    "    for i in range(2, 2+num_pages):\n",
    "        article_list.extend( findArticles(query, i) )\n",
    "    \n",
    "    #  load our list of previously downloaded files\n",
    "    with open('articles/files.txt', 'r') as f:\n",
    "        downloaded_files = f.readlines()\n",
    "        downloaded_files = [file[0:len(file) - 1] for file in downloaded_files]\n",
    "    \n",
    "    # download any new ones\n",
    "    for article in article_list:\n",
    "        if article[\"url\"] not in downloaded_files:\n",
    "            # always mark that we've processed the file after to prevent re-requests\n",
    "            with open('articles/files.txt', 'a') as f:\n",
    "                f.write(\"\" + article[\"url\"] + \"\\n\")\n",
    "            \n",
    "            print(\"making request\")\n",
    "            articleData = requests.get(summerize_request.format(article[\"url\"]))\n",
    "            \n",
    "            # make sure the file is valid\n",
    "            if 'article title' in articleData.json() and '/' not in articleData.json()['article title']:\n",
    "                filename = 'articles/' + articleData.json()['article title'] + '.json'\n",
    "                # print( articleData.json() )\n",
    "                with open(filename, 'w') as fp:\n",
    "                    json.dump(articleData.json(), fp)"
   ]
  },
  {
   "cell_type": "code",
   "execution_count": 81,
   "metadata": {},
   "outputs": [
    {
     "name": "stdout",
     "output_type": "stream",
     "text": [
      "making request\n",
      "making request\n",
      "making request\n",
      "making request\n",
      "making request\n",
      "making request\n",
      "making request\n",
      "making request\n",
      "making request\n",
      "making request\n",
      "making request\n"
     ]
    }
   ],
   "source": [
    "storeArticles('beijing', 2)"
   ]
  },
  {
   "cell_type": "code",
   "execution_count": null,
   "metadata": {},
   "outputs": [],
   "source": []
  }
 ],
 "metadata": {
  "kernelspec": {
   "display_name": "Python 3",
   "language": "python",
   "name": "python3"
  },
  "language_info": {
   "codemirror_mode": {
    "name": "ipython",
    "version": 3
   },
   "file_extension": ".py",
   "mimetype": "text/x-python",
   "name": "python",
   "nbconvert_exporter": "python",
   "pygments_lexer": "ipython3",
   "version": "3.7.0"
  }
 },
 "nbformat": 4,
 "nbformat_minor": 2
}
